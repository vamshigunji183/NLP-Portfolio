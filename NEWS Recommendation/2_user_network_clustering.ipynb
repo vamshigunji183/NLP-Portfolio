{
 "cells": [
  {
   "cell_type": "code",
   "execution_count": 16,
   "metadata": {
    "collapsed": true
   },
   "outputs": [],
   "source": [
    "#!/usr/bin/env python\n",
    "# -*- coding: UTF-8 -*-\n",
    "from igraph import *\n",
    "import cairo\n",
    "import matplotlib.pyplot as plt\n",
    "import numpy as np\n",
    "import seaborn as sns"
   ]
  },
  {
   "cell_type": "code",
   "execution_count": 17,
   "metadata": {
    "collapsed": true
   },
   "outputs": [],
   "source": [
    "import sys\n",
    "import csv\n",
    "import json\n",
    "import pprint\n",
    "from pymongo import MongoClient\n",
    "import numpy as np\n",
    "import collections\n",
    "from bson.son import SON\n",
    "from time import time"
   ]
  },
  {
   "cell_type": "code",
   "execution_count": 18,
   "metadata": {
    "collapsed": true
   },
   "outputs": [],
   "source": [
    "import pprint\n",
    "\n",
    "def SaveDict(filename, mode, root):\n",
    "    if filename[-4:]!=\".txt\":\n",
    "        filename+=\".txt\"\n",
    "    with open(filename, mode) as f:\n",
    "        f.write(pprint.pformat(root))\n",
    "\n",
    "def LoadDict(filename):\n",
    "    if filename[-4:]!=\".txt\":\n",
    "        filename+=\".txt\"\n",
    "    with open(filename, \"r\") as f:\n",
    "        return eval(f.read())"
   ]
  },
  {
   "cell_type": "code",
   "execution_count": 19,
   "metadata": {
    "collapsed": true
   },
   "outputs": [],
   "source": [
    "client = MongoClient()\n",
    "db = client.twitter"
   ]
  },
  {
   "cell_type": "code",
   "execution_count": null,
   "metadata": {
    "collapsed": true
   },
   "outputs": [],
   "source": [
    "def add_weight_to_user(entry):\n",
    "    if \"weight\" in entry:\n",
    "        return\n",
    "    else:\n",
    "        print entry[\"user\"][\"id\"]\n",
    "        pop = db.posts.find_one({\"id\": entry[\"tweet_id\"]})[\"retweet_count\"]\n",
    "        if pop > 1e-8:\n",
    "            db.users.update({\"_id\": entry[\"_id\"]}, {\"$set\": {\"weight\": 1.0/float(pop)}})\n",
    "        else:\n",
    "            db.users.update({\"_id\": entry[\"_id\"]}, {\"$set\": {\"weight\": 0.0}})\n",
    "    return"
   ]
  },
  {
   "cell_type": "code",
   "execution_count": null,
   "metadata": {
    "collapsed": true
   },
   "outputs": [],
   "source": [
    "def merge_users():\n",
    "    for entry in db.users.find():\n",
    "        add_weight_to_user(entry)\n",
    "    pipeline = [{\"$group\": {\"_id\": \"$user.id\", \"name\": {\"$first\": \"$user.name\"}, \"tweet_ids\": {\"$addToSet\": \"$tweet_id\"},\n",
    "                 \"count\": {\"$sum\": 1}, \"totalvalue\": {\"$sum\": \"$weight\"}}},\n",
    "                {\"$out\": \"user_merge\"}]\n",
    "    db.command('aggregate', 'users', pipeline=pipeline, explain=True)"
   ]
  },
  {
   "cell_type": "code",
   "execution_count": null,
   "metadata": {
    "collapsed": true
   },
   "outputs": [],
   "source": [
    "def generate_links_from_retweet_list(entry):\n",
    "    retweeters = entry[\"retweeters\"]\n",
    "    tweet_id = entry[\"tweet_id\"]\n",
    "    if db.links.find_one({\"tweet_id\": tweet_id}):\n",
    "        return\n",
    "    else:\n",
    "        documents = []\n",
    "        for user1 in retweeters:\n",
    "            for user2 in retweeters:\n",
    "                if user1 != user2:\n",
    "                    if db.active_users.find_one({\"_id\": user1}) and db.active_users.find_one({\"_id\": user2}):\n",
    "                        pop = db.posts.find_one({\"id\": tweet_id})[\"retweet_count\"]\n",
    "                        if pop > 1e-8:\n",
    "                            documents.append({\"user1\": user1, \"user2\": user2, \"tweet_id\": tweet_id, \"weight\": 1.0/float(pop)})\n",
    "                        else:\n",
    "                            documents.append({\"user1\": user1, \"user2\": user2, \"tweet_id\": tweet_id, \"weight\": 0.0})\n",
    "\n",
    "        print len(documents)\n",
    "        if len(documents) > 0:\n",
    "            db.links.insert_many(documents)\n",
    "        return"
   ]
  },
  {
   "cell_type": "code",
   "execution_count": null,
   "metadata": {
    "collapsed": true
   },
   "outputs": [],
   "source": [
    "def build_links(start_over=False):\n",
    "    if start_over:\n",
    "        db.links.drop()\n",
    "    count = 0\n",
    "    for entry in db.retweeter_list.find():\n",
    "        count += 1\n",
    "        if count%1000 == 0:\n",
    "            print count\n",
    "        generate_links_from_retweet_list(entry)"
   ]
  },
  {
   "cell_type": "code",
   "execution_count": null,
   "metadata": {
    "collapsed": true
   },
   "outputs": [],
   "source": [
    "def merge_links(): \n",
    "    db.link_merge.drop()\n",
    "    pipeline = [{\"$group\": {\"_id\": {\"user1\": \"$user1\", \"user2\": \"$user2\"}, \"tweet_ids\": {\"$addToSet\": \"$tweet_id\"}, \"value\": {\"$sum\": \"$weight\"}}},\n",
    "                {\"$addFields\": {\"number_tweets\": {\"$size\": \"$tweet_ids\"}}},\n",
    "                {\"$sort\":  SON([(\"value\", -1)])},\n",
    "                {\"$out\": \"link_merge\"}]\n",
    "    db.command('aggregate', 'links', pipeline=pipeline, explain=True)"
   ]
  },
  {
   "cell_type": "code",
   "execution_count": null,
   "metadata": {
    "collapsed": true
   },
   "outputs": [],
   "source": [
    "def calculate_cosine(entry):\n",
    "    user1 = entry[\"user1\"][0]\n",
    "    user2 = entry[\"user2\"][0]\n",
    "    value = float(entry[\"value\"])/float(user1[\"totalvalue\"])/float(user2[\"totalvalue\"])\n",
    "    db[\"link_merge\"].update({\"_id.user1\": entry[\"_id\"][\"user1\"], \"_id.user2\": entry[\"_id\"][\"user2\"]}, {\"$set\": {\"similarity\": value}})\n",
    "    return"
   ]
  },
  {
   "cell_type": "code",
   "execution_count": null,
   "metadata": {
    "collapsed": true
   },
   "outputs": [],
   "source": [
    "def cosine_similarity():\n",
    "    count = 0\n",
    "    t0 = time()\n",
    "    for entry in db[\"link_merge\"].find(no_cursor_timeout=True):\n",
    "        if \"similarity\" not in entry:\n",
    "            calculate_cosine(entry)\n",
    "            count += 1\n",
    "            if count%1000 == 0:\n",
    "                print \"count: \", count\n",
    "                print(\"done in %0.3fs.\" % (time() - t0))\n",
    "                t0 = time()"
   ]
  },
  {
   "cell_type": "code",
   "execution_count": null,
   "metadata": {
    "collapsed": true
   },
   "outputs": [],
   "source": [
    "t0 = time()\n",
    "print \"create users collections with a list of retweets...\"\n",
    "merge_users()\n",
    "print(\"done in %0.3fs.\" % (time() - t0))"
   ]
  },
  {
   "cell_type": "code",
   "execution_count": null,
   "metadata": {
    "collapsed": true
   },
   "outputs": [],
   "source": [
    "t0 = time()\n",
    "print \"building links for each retweet...\"\n",
    "build_links()\n",
    "print(\"done in %0.3fs.\" % (time() - t0))"
   ]
  },
  {
   "cell_type": "code",
   "execution_count": null,
   "metadata": {
    "collapsed": true
   },
   "outputs": [],
   "source": [
    "t0 = time()\n",
    "print \"Merging links together...\"\n",
    "merge_links()\n",
    "print(\"done in %0.3fs.\" % (time() - t0))"
   ]
  },
  {
   "cell_type": "code",
   "execution_count": null,
   "metadata": {
    "collapsed": true
   },
   "outputs": [],
   "source": [
    "t0 = time()\n",
    "print \"Calculating cosine similarity for the links...\"\n",
    "cosine_similarity()\n",
    "print(\"done in %0.3fs.\" % (time() - t0))"
   ]
  },
  {
   "cell_type": "code",
   "execution_count": null,
   "metadata": {
    "collapsed": false
   },
   "outputs": [],
   "source": [
    "users = db[\"active_users\"]\n",
    "links = db[\"link_similarity\"]\n",
    "\n",
    "nodes = {}\n",
    "ids = []\n",
    "i = 0\n",
    "for user in users.find():\n",
    "    nodes[i] ={\"name\": user[\"name\"], \"value\": user[\"count\"]}\n",
    "    ids.append(user[\"_id\"])\n",
    "    i += 1\n",
    "print \"number of nodes: \", len(nodes)\n",
    "print nodes"
   ]
  },
  {
   "cell_type": "code",
   "execution_count": 21,
   "metadata": {
    "collapsed": false
   },
   "outputs": [
    {
     "name": "stdout",
     "output_type": "stream",
     "text": [
      "number of edges:  178857\n"
     ]
    }
   ],
   "source": [
    "edges = {}\n",
    "for link in links.find():\n",
    "    if link[\"_id\"][\"user1\"] in ids and link[\"_id\"][\"user2\"] in ids:\n",
    "        if ids.index(link[\"_id\"][\"user1\"]) < ids.index(link[\"_id\"][\"user2\"]) :\n",
    "            edges[(ids.index(link[\"_id\"][\"user1\"]), ids.index(link[\"_id\"][\"user2\"]))] = {\"weight\": link[\"similarity\"], \"number_tweets\": link[\"number_tweets\"]}\n",
    "print \"number of edges: \", len(edges)"
   ]
  },
  {
   "cell_type": "code",
   "execution_count": 22,
   "metadata": {
    "collapsed": false
   },
   "outputs": [],
   "source": [
    "graph = {\"nodes\": nodes, \"edges\": edges}\n",
    "SaveDict(\"./data/network\", \"w\", graph)"
   ]
  },
  {
   "cell_type": "code",
   "execution_count": 23,
   "metadata": {
    "collapsed": false
   },
   "outputs": [],
   "source": [
    "graph = LoadDict(\"./data/network\")\n",
    "g = Graph(graph[\"edges\"].keys())\n",
    "g.vs[\"name\"] = [graph[\"nodes\"][node][\"name\"] for node in graph[\"nodes\"]]\n",
    "g.vs[\"value\"] = [graph[\"nodes\"][node][\"value\"] for node in graph[\"nodes\"]]\n",
    "g.es[\"weight\"] = [graph[\"edges\"][edge][\"weight\"] for edge in graph[\"edges\"]]"
   ]
  },
  {
   "cell_type": "code",
   "execution_count": 7,
   "metadata": {
    "collapsed": true
   },
   "outputs": [],
   "source": [
    "dendrogram_fastgreedy = g.community_fastgreedy(weights=g.es[\"weight\"])"
   ]
  },
  {
   "cell_type": "code",
   "execution_count": 8,
   "metadata": {
    "collapsed": false
   },
   "outputs": [
    {
     "name": "stdout",
     "output_type": "stream",
     "text": [
      "[0.14649345063397426, 0.14894234749712693, 0.1490534839990413, 0.14911773935713127, 0.14919804353971822, 0.1492356566022764, 0.14973306971372924, 0.14984012699759602, 0.1499198796312662, 0.14998190419203047, 0.15004842663753826, 0.1501136480530016, 0.1501804795086439, 0.15022868490817162, 0.1509241552951729, 0.0]\n"
     ]
    }
   ],
   "source": [
    "n_list_fastgreedy = [500, 200, 180, 170, 160, 150, 100, 80, 70, 60, 50, 40, 30, 20, 10, 5]\n",
    "modularity_fastgreedy = []\n",
    "for n in n_list_fastgreedy:\n",
    "    clusters = dendrogram_fastgreedy.as_clustering(n=n)\n",
    "    membership_fastgreedy = clusters.membership\n",
    "    modularity = g.modularity(membership_fastgreedy)\n",
    "    modularity_fastgreedy.append(modularity)\n",
    "print modularity_fastgreedy"
   ]
  },
  {
   "cell_type": "code",
   "execution_count": 9,
   "metadata": {
    "collapsed": true
   },
   "outputs": [],
   "source": [
    "dendrogram_walktrap = g.community_walktrap(weights=g.es[\"weight\"])"
   ]
  },
  {
   "cell_type": "code",
   "execution_count": 10,
   "metadata": {
    "collapsed": false
   },
   "outputs": [],
   "source": [
    "n_list_walktrap = [500, 200, 180, 170, 160, 150]\n",
    "modularity_walktrap = []\n",
    "for n in n_list_walktrap:\n",
    "    clusters = dendrogram_walktrap.as_clustering(n=n)\n",
    "    membership_walktrap = clusters.membership\n",
    "    modularity = g.modularity(membership_walktrap)\n",
    "    modularity_walktrap.append(modularity)"
   ]
  },
  {
   "cell_type": "code",
   "execution_count": 11,
   "metadata": {
    "collapsed": false
   },
   "outputs": [
    {
     "data": {
      "image/png": "[encoded data removed]",
      "text/plain": [
       "<matplotlib.figure.Figure at 0x112ff3550>"
      ]
     },
     "metadata": {},
     "output_type": "display_data"
    }
   ],
   "source": [
    "sns.set_context(\"poster\")\n",
    "plt.figure()\n",
    "with sns.axes_style(\"darkgrid\"):\n",
    "    plt.plot(n_list_fastgreedy, modularity_fastgreedy, label=\"fast greedy\")\n",
    "    plt.plot(n_list_walktrap, modularity_walktrap, label=\"walktrap\")\n",
    "    plt.ylim(0.1,)\n",
    "    plt.xlabel(\"Number of Clusters\")\n",
    "    plt.ylabel(\"Modularity\")\n",
    "    plt.legend()\n",
    "    plt.show()"
   ]
  },
  {
   "cell_type": "code",
   "execution_count": 14,
   "metadata": {
    "collapsed": false
   },
   "outputs": [
    {
     "name": "stdout",
     "output_type": "stream",
     "text": [
      "10 0.150924155295\n"
     ]
    }
   ],
   "source": [
    "n_opt = n_list_fastgreedy[np.argmax(np.array(modularity_fastgreedy))]\n",
    "print n_opt, np.max(modularity_fastgreedy)"
   ]
  },
  {
   "cell_type": "code",
   "execution_count": 15,
   "metadata": {
    "collapsed": false
   },
   "outputs": [
    {
     "name": "stdout",
     "output_type": "stream",
     "text": [
      "0.150924155295\n"
     ]
    }
   ],
   "source": [
    "clusters = dendrogram_fastgreedy.as_clustering(n=n_opt)\n",
    "membership_fastgreedy = clusters.membership\n",
    "modularity = g.modularity(membership_fastgreedy)\n",
    "print modularity"
   ]
  },
  {
   "cell_type": "code",
   "execution_count": 16,
   "metadata": {
    "collapsed": false
   },
   "outputs": [
    {
     "name": "stdout",
     "output_type": "stream",
     "text": [
      "(array([1144, 1654, 1182, 1377,  575,  549,    1,    1,    1,    1]), array([ 0,  1,  2,  3,  4,  5,  6,  7,  8,  9, 10]))\n"
     ]
    },
    {
     "data": {
      "image/png": "[encoded data removed]",
      "text/plain": [
       "<matplotlib.figure.Figure at 0x1155160d0>"
      ]
     },
     "metadata": {},
     "output_type": "display_data"
    }
   ],
   "source": [
    "hist = np.histogram(membership_fastgreedy, bins=range(min(membership_fastgreedy), max(membership_fastgreedy)+2))\n",
    "print hist\n",
    "labels = range(min(membership_fastgreedy), max(membership_fastgreedy)+1)\n",
    "with sns.axes_style(\"darkgrid\"):\n",
    "    plt.bar(labels, hist[0])\n",
    "    plt.xlabel(\"Group Labels\")\n",
    "    plt.ylabel(\"Number of Members\")\n",
    "    plt.show()"
   ]
  },
  {
   "cell_type": "code",
   "execution_count": 17,
   "metadata": {
    "collapsed": true
   },
   "outputs": [],
   "source": [
    "for i in range(len(membership_fastgreedy)):\n",
    "    if hist[0][membership_fastgreedy[i]] < 10:\n",
    "        membership_fastgreedy[i] = 5"
   ]
  },
  {
   "cell_type": "code",
   "execution_count": 18,
   "metadata": {
    "collapsed": false
   },
   "outputs": [
    {
     "name": "stdout",
     "output_type": "stream",
     "text": [
      "[1144 1654 1182 1377  575  553]\n"
     ]
    },
    {
     "data": {
      "image/png": "[encoded data removed]",
      "text/plain": [
       "<matplotlib.figure.Figure at 0x1173d9990>"
      ]
     },
     "metadata": {},
     "output_type": "display_data"
    }
   ],
   "source": [
    "hist = np.histogram(membership_fastgreedy, bins=range(min(membership_fastgreedy), max(membership_fastgreedy)+2))\n",
    "print hist[0]\n",
    "labels = range(min(membership_fastgreedy), max(membership_fastgreedy)+1)\n",
    "with sns.axes_style(\"darkgrid\"):\n",
    "    plt.bar(labels, hist[0])\n",
    "    plt.xlabel(\"Group Labels\")\n",
    "    plt.ylabel(\"Number of Members\")\n",
    "    plt.show()"
   ]
  },
  {
   "cell_type": "code",
   "execution_count": 20,
   "metadata": {
    "collapsed": true
   },
   "outputs": [],
   "source": [
    "SaveDict(\"./data/label\", \"w\", {\"group\": membership_fastgreedy})"
   ]
  },
  {
   "cell_type": "code",
   "execution_count": null,
   "metadata": {
    "collapsed": false
   },
   "outputs": [],
   "source": [
    "group = LoadDict(\"./data/label\")[\"group\"]\n",
    "g.vs[\"group\"] = group"
   ]
  },
  {
   "cell_type": "code",
   "execution_count": 69,
   "metadata": {
    "collapsed": false
   },
   "outputs": [],
   "source": [
    "g_sub = g.subgraph_edges([edge for edge in graph[\"edges\"] if graph[\"edges\"][edge][\"weight\"] > 10], delete_vertices=True)"
   ]
  },
  {
   "cell_type": "code",
   "execution_count": 70,
   "metadata": {
    "collapsed": false
   },
   "outputs": [
    {
     "name": "stdout",
     "output_type": "stream",
     "text": [
      "IGRAPH UNW- 277 250 -- \n",
      "+ attr: group (v), name (v), value (v), weight (e)\n"
     ]
    }
   ],
   "source": [
    "summary(g_sub)"
   ]
  },
  {
   "cell_type": "code",
   "execution_count": null,
   "metadata": {
    "collapsed": false
   },
   "outputs": [],
   "source": [
    "color_dict = {0: \"blue\", 1: \"pink\", 2: \"red\", 3: \"green\", 4: \"yellow\", 5:\"purple\"}\n",
    "layout = g.layout(\"kk\")\n",
    "plot(g_sub, layout = layout, vertex_color = [color_dict[group] for group in g.vs[\"group\"]], vertex_size=1)"
   ]
  },
  {
   "cell_type": "code",
   "execution_count": 26,
   "metadata": {
    "collapsed": false
   },
   "outputs": [],
   "source": [
    "users = db[\"active_users\"]"
   ]
  },
  {
   "cell_type": "code",
   "execution_count": 29,
   "metadata": {
    "collapsed": false
   },
   "outputs": [],
   "source": [
    "for i in range(len(membership_fastgreedy)):\n",
    "    users.update_one({\"name\": g.vs[\"name\"][i]}, {\"$set\": {\"label\": membership_fastgreedy[i]}})"
   ]
  },
  {
   "cell_type": "code",
   "execution_count": 75,
   "metadata": {
    "collapsed": false
   },
   "outputs": [],
   "source": [
    "db.articles.update_many({}, {\"$unset\": {\"label\":\"\"}}, upsert=True)\n",
    "for entry in db.retweeter_list.find():\n",
    "    retweets = entry[\"retweeters\"]\n",
    "    votes = {0:0, 1:0, 2:0, 3:0, 4:0, 5:0}\n",
    "    count = 0\n",
    "    for user in retweets:\n",
    "        if db.active_users.find_one({\"_id\":user}):\n",
    "            votes[int(db.active_users.find_one({\"_id\":user})[\"label\"])] += 1\n",
    "            count += 1\n",
    "    new_fields = {}\n",
    "    for i in votes:\n",
    "        new_fields[\"group \"+str(i)] = votes[i]\n",
    "        \n",
    "    label = max(votes.iteritems(), key=operator.itemgetter(1))[0]\n",
    "    if count > 0 and votes[label]/float(count) > 0.5:\n",
    "        new_fields[\"label\"] = label\n",
    "\n",
    "    db.articles.update_one({\"id\": entry[\"tweet_id\"]}, {\"$set\": new_fields})"
   ]
  }
 ],
 "metadata": {
  "kernelspec": {
   "display_name": "Python 2",
   "language": "python",
   "name": "python2"
  },
  "language_info": {
   "codemirror_mode": {
    "name": "ipython",
    "version": 2
   },
   "file_extension": ".py",
   "mimetype": "text/x-python",
   "name": "python",
   "nbconvert_exporter": "python",
   "pygments_lexer": "ipython2",
   "version": "2.7.13"
  }
 },
 "nbformat": 4,
 "nbformat_minor": 1
}
